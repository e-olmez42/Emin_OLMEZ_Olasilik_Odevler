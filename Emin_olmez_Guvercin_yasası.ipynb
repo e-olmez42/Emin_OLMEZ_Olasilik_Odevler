{
  "nbformat": 4,
  "nbformat_minor": 0,
  "metadata": {
    "colab": {
      "provenance": [],
      "authorship_tag": "ABX9TyP2b389TspDQFXpK+6l3X2I",
      "include_colab_link": true
    },
    "kernelspec": {
      "name": "python3",
      "display_name": "Python 3"
    },
    "language_info": {
      "name": "python"
    }
  },
  "cells": [
    {
      "cell_type": "markdown",
      "metadata": {
        "id": "view-in-github",
        "colab_type": "text"
      },
      "source": [
        "<a href=\"https://colab.research.google.com/github/e-olmez42/Emin_OLMEZ_Olasilik_Odevler/blob/main/Emin_olmez_Guvercin_yasas%C4%B1.ipynb\" target=\"_parent\"><img src=\"https://colab.research.google.com/assets/colab-badge.svg\" alt=\"Open In Colab\"/></a>"
      ]
    },
    {
      "cell_type": "markdown",
      "source": [
        "**Soru:**Amerika Birleşik Devletleri'nde 300 milyon kişinin olduğu herkesin cinsiyetini erkek veya kadın olarak belirlediğini, herkesin en fazla 10 çocuğu olduğunu ve herkesin adının üç harfli olduğunu varsayalım. Bu durum altında, aynı cinsiyette, aynı sayıda çocuğa, aynı üç harfli adın ve aynı doğum tarihinin olduğu en az 3 kişi olduğunu güvercin yuvası prensibi ile garanti edelim.\n",
        "\n",
        "Çözüm:\n",
        "\n",
        "İlk olarak, bir kişinin adının üç harfli olduğunu varsayalım. Bu, sadece 26 * 26 * 26 = 17,576 farklı kombinasyon olduğunu gösterir.\n",
        "\n",
        "Bir kişinin en fazla 10 çocuğu olduğunu varsayalım. Bu, her bir kişi için maksimum 10 farklı çocuk sayısına sahip olduğumuz anlamına gelir.\n",
        "\n",
        "Bir kişinin cinsiyetinin erkek veya kadın olduğunu varsayalım. Yani, sadece iki farklı seçeneğimiz var.\n",
        "\n",
        "Bir kişinin doğum tarihi ise yıl, ay ve gün olarak verilebilir. Ancak, bu problemin daha basit bir çözümü için yalnızca gün olarak ele alalım. Bir yıl içinde 366 gün olduğu göz önüne alındığında, bir kişinin doğum tarihler içindedir.\n",
        "\n",
        "Şimdi, Pigeonhole Prensibi'ni kullanarak, 17,576 * 10 * 2 * 366 = 128,789,120 farklı kişinin kombinasyonunu hesaplayalım. Ancak, Amerika Birleşik Devletleri'nde 300 milyon insan olduğunu göz önünde bulundurduğumuzda, bu kombinasyonların sayısının 300 milyondan fazla olduğunu görebiliriz.\n",
        "\n",
        "bu durumda [300,000,000/128,789,120] =2,349 çıkmaktadır. Burada güvercin yuvasında yukarı yuvarlama işlemi yapılmaktadır. bundan dolayı 3 elde edilir. Bu durumda, aynı cinsiyette, aynı çocuk sayısına, aynı üç harfli adın ve aynı doğum tarihine sahip en az üç kişi olduğu sonucuna varırız.\n",
        "\n",
        "\n",
        "\n",
        "\n",
        "\n",
        "\n",
        ">\n",
        "\n"
      ],
      "metadata": {
        "id": "F7YPOq7n7zGK"
      }
    },
    {
      "cell_type": "code",
      "execution_count": 10,
      "metadata": {
        "id": "_Wt02YRYpM9S",
        "colab": {
          "base_uri": "https://localhost:8080/"
        },
        "outputId": "da73990c-248c-4848-bde4-ffbccc522ccc"
      },
      "outputs": [
        {
          "output_type": "stream",
          "name": "stdout",
          "text": [
            "harf adeti sayısı 26\n",
            "cinsiyet sayısı 2\n",
            "yılın gün sayısı 366\n",
            "Aynı cinsiyette, aynı sayıda çocuğa, aynı üç harfli adın ve aynı doğum tarihinin olduğu sayısı: 3\n"
          ]
        }
      ],
      "source": [
        "from collections import defaultdict\n",
        "import math\n",
        "import datetime\n",
        "\n",
        "def yilin_gun_sayisi(yil):\n",
        "    # Belirtilen yılın 1 Ocak tarihini oluşturuyoruz\n",
        "    baslangic_tarihi = datetime.date(yil, 1, 1)\n",
        "\n",
        "    # Belirtilen yılın bir sonraki yılının 1 Ocak tarihini oluşturuyoruz\n",
        "    bir_sonraki_yil = datetime.date(yil + 1, 1, 1)\n",
        "\n",
        "    # İki tarih arasındaki farkı alarak toplam gün sayısını elde ediyoruz\n",
        "    gun_sayisi = (bir_sonraki_yil - baslangic_tarihi).days\n",
        "\n",
        "    return gun_sayisi\n",
        "\n",
        "# Farklı ad sayısı\n",
        "harfler = ['A', 'B', 'C', 'D', 'E', 'F', 'G', 'H', 'I', 'J', 'K', 'L', 'M', 'N', 'O', 'P', 'Q', 'R', 'S', 'T', 'U', 'V', 'W', 'X', 'Y', 'Z']\n",
        "print(\"harf adeti sayısı\",len(harfler))\n",
        "name_combinations = len(harfler)*len(harfler)*len(harfler)\n",
        "# Farklı çocuk sayısı\n",
        "children_combinations = 10\n",
        "cinsiyet =[\"erkek\",\"kadın\"]\n",
        "print(\"cinsiyet sayısı\",len(cinsiyet))\n",
        "gender_combinations = len(cinsiyet)\n",
        "# Farklı doğum tarihleri sayısı\n",
        "print(\"yılın gün sayısı\",yilin_gun_sayisi(2024))\n",
        "birthday_combinations = yilin_gun_sayisi(2024)\n",
        "\n",
        "# Toplam kombinasyon sayısı\n",
        "total_combinations = name_combinations * children_combinations * gender_combinations * birthday_combinations\n",
        "\n",
        "# Amerika Birleşik Devletleri nüfusu\n",
        "us_population = 300_000_000\n",
        "\n",
        "# Güvercin yuvası prensibine göre minimum kombinasyon sayısı\n",
        "sonuc = math.ceil(us_population / total_combinations)\n",
        "\n",
        "print(\"Aynı cinsiyette, aynı sayıda çocuğa, aynı üç harfli adın ve aynı doğum tarihinin olduğu sayısı:\", sonuc)"
      ]
    }
  ]
}