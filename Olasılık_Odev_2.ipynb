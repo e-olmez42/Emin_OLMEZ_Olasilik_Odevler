{
  "nbformat": 4,
  "nbformat_minor": 0,
  "metadata": {
    "colab": {
      "provenance": [],
      "name": "emin_olmez_guvercin_yasası.ipynb",
      "authorship_tag": "ABX9TyPctkHpmSwKxjnFAF6/J1eP",
      "include_colab_link": true
    },
    "kernelspec": {
      "name": "python3",
      "display_name": "Python 3"
    },
    "language_info": {
      "name": "python"
    }
  },
  "cells": [
    {
      "cell_type": "markdown",
      "metadata": {
        "id": "view-in-github",
        "colab_type": "text"
      },
      "source": [
        "<a href=\"https://colab.research.google.com/github/e-olmez42/Emin_OLMEZ_Olasilik_Odevler/blob/main/Olas%C4%B1l%C4%B1k_Odev_2.ipynb\" target=\"_parent\"><img src=\"https://colab.research.google.com/assets/colab-badge.svg\" alt=\"Open In Colab\"/></a>"
      ]
    },
    {
      "cell_type": "markdown",
      "source": [
        "# **Permütasyon**"
      ],
      "metadata": {
        "id": "aHICzciNIsXV"
      }
    },
    {
      "cell_type": "markdown",
      "source": [
        "Bir posta kodu 5 rakamdan oluşmaktadır. Hiçbir rakam birden fazla kullanılmamaktadır ve ilk rakam 0 kullanılmaz izin verilmemektedir. 0'dan 9'a kadar olan rakamlarla kaç farklı posta kodu oluşturulabilir?\n",
        "\n",
        "ilk konum için 9 olası seçenek vardır (0'a izin verilmediğinden). Bu sayı seçildikten sonra 9 olası seçenek vardır (çünkü artık 0'a izin verilmektedir). O halde 8 olası seçenek, 7 olası seçenek ve 6 olası seçenek vardır.\n",
        "\n",
        "0'a izin verilmediğinden formüle ilk rakamı ekleyemiyoruz. İlk konum için 9 olası seçenek vardır (0'a izin verilmediğinden). Sonraki 4 pozisyon için 9 haneden seçim yapıyoruz.\n",
        "\n",
        "![image.png](data:image/png;base64,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)"
      ],
      "metadata": {
        "id": "945l5a2pFQQc"
      }
    },
    {
      "cell_type": "code",
      "source": [
        "def faktoriyel(n):\n",
        "    if n == 0:\n",
        "        return 1\n",
        "    else:\n",
        "        return n * faktoriyel(n - 1)\n",
        "\n",
        "def farkli_posta_kodu_sayisi():\n",
        "    n = 10\n",
        "    r = 5\n",
        "    ilk_rakam_secenek = 9\n",
        "    return (faktoriyel(n - 1) // faktoriyel(n - r)) * ilk_rakam_secenek\n",
        "\n",
        "print(\"Bir posta kodu\", farkli_posta_kodu_sayisi(), \"oluşturulur\")"
      ],
      "metadata": {
        "colab": {
          "base_uri": "https://localhost:8080/"
        },
        "id": "rtWYdS5iFSFU",
        "outputId": "08de26cb-dbee-415b-ed07-fd034ccdd1b3"
      },
      "execution_count": 1,
      "outputs": [
        {
          "output_type": "stream",
          "name": "stdout",
          "text": [
            "Bir posta kodu 27216 oluşturulur\n"
          ]
        }
      ]
    },
    {
      "cell_type": "markdown",
      "source": [
        "# **Kombinasyon**"
      ],
      "metadata": {
        "id": "xndMihg-Iw5t"
      }
    },
    {
      "cell_type": "markdown",
      "source": [
        "Bir restoran menüsünde 10 farklı ana yemek seçeneği, 8 farklı yan yemek seçeneği ve 5 farklı içecek seçeneği bulunmaktadır. Bir müşteri en fazla bir ana yemek, bir yan yemek ve bir içecek seçebilir. Müşterinin kaç farklı yemek kombinasyonu yapabileceğini hesaplayın.\n",
        "\n",
        "Toplam kombinasyon sayısı = Ana yemek kombinasyon sayısı * Yan yemek kombinasyon sayısı * İçecek kombinasyon sayısı\n",
        "\n",
        "Öncelikle her bir kategorideki kombinasyon sayılarını hesaplayalım:\n",
        "\n",
        "Ana yemek kombinasyon sayısı = C(10, 1) = 10\n",
        "Yan yemek kombinasyon sayısı = C(8, 1) = 8\n",
        "İçecek kombinasyon sayısı = C(5, 1) = 5\n",
        "\n",
        "\n",
        "Toplam kombinasyon sayısı = 10 * 8 * 5 = 400\n"
      ],
      "metadata": {
        "id": "FcDnxH5ZHjym"
      }
    },
    {
      "cell_type": "code",
      "source": [
        "from itertools import product\n",
        "\n",
        "def factorial(n):\n",
        "    if n == 0:\n",
        "        return 1\n",
        "    else:\n",
        "        fact = 1\n",
        "        for i in range(1, n + 1):\n",
        "            fact *= i\n",
        "        return fact\n",
        "\n",
        "\n",
        "def kombinasyon(n, k):\n",
        "    return factorial(n) / (factorial(k) * factorial(n - k))\n",
        "\n",
        "\n",
        "ana_yemekler = ['Ana Yemek 1', 'Ana Yemek 2', 'Ana Yemek 3', 'Ana Yemek 4', 'Ana Yemek 5', 'Ana Yemek 6', 'Ana Yemek 7', 'Ana Yemek 8', 'Ana Yemek 9', 'Ana Yemek 10']\n",
        "yan_yemekler = ['Yan Yemek 1', 'Yan Yemek 2', 'Yan Yemek 3', 'Yan Yemek 4', 'Yan Yemek 5', 'Yan Yemek 6', 'Yan Yemek 7', 'Yan Yemek 8']\n",
        "icecekler = ['İçecek 1', 'İçecek 2', 'İçecek 3', 'İçecek 4', 'İçecek 5']\n",
        "\n",
        "\n",
        "\n",
        "toplam_kombinasyon = kombinasyon(len(ana_yemekler), 1) * kombinasyon(len(yan_yemekler), 1) * kombinasyon(len(icecekler), 1)\n",
        "\n",
        "print(\"Toplam kombinasyon sayısı:\", toplam_kombinasyon)\n",
        "\n",
        "\n",
        "tum_kombinasyonlar = list(product(ana_yemekler, yan_yemekler, icecekler))\n",
        "\n",
        "print(\"\\nTüm kombinasyonlar:\",tum_kombinasyonlar)"
      ],
      "metadata": {
        "id": "tUXHsz5mFPjT",
        "colab": {
          "base_uri": "https://localhost:8080/"
        },
        "outputId": "7e641fd0-09e7-4bfe-bd69-f54bb48f0207"
      },
      "execution_count": 2,
      "outputs": [
        {
          "output_type": "stream",
          "name": "stdout",
          "text": [
            "Toplam kombinasyon sayısı: 400.0\n",
            "\n",
            "Tüm kombinasyonlar: [('Ana Yemek 1', 'Yan Yemek 1', 'İçecek 1'), ('Ana Yemek 1', 'Yan Yemek 1', 'İçecek 2'), ('Ana Yemek 1', 'Yan Yemek 1', 'İçecek 3'), ('Ana Yemek 1', 'Yan Yemek 1', 'İçecek 4'), ('Ana Yemek 1', 'Yan Yemek 1', 'İçecek 5'), ('Ana Yemek 1', 'Yan Yemek 2', 'İçecek 1'), ('Ana Yemek 1', 'Yan Yemek 2', 'İçecek 2'), ('Ana Yemek 1', 'Yan Yemek 2', 'İçecek 3'), ('Ana Yemek 1', 'Yan Yemek 2', 'İçecek 4'), ('Ana Yemek 1', 'Yan Yemek 2', 'İçecek 5'), ('Ana Yemek 1', 'Yan Yemek 3', 'İçecek 1'), ('Ana Yemek 1', 'Yan Yemek 3', 'İçecek 2'), ('Ana Yemek 1', 'Yan Yemek 3', 'İçecek 3'), ('Ana Yemek 1', 'Yan Yemek 3', 'İçecek 4'), ('Ana Yemek 1', 'Yan Yemek 3', 'İçecek 5'), ('Ana Yemek 1', 'Yan Yemek 4', 'İçecek 1'), ('Ana Yemek 1', 'Yan Yemek 4', 'İçecek 2'), ('Ana Yemek 1', 'Yan Yemek 4', 'İçecek 3'), ('Ana Yemek 1', 'Yan Yemek 4', 'İçecek 4'), ('Ana Yemek 1', 'Yan Yemek 4', 'İçecek 5'), ('Ana Yemek 1', 'Yan Yemek 5', 'İçecek 1'), ('Ana Yemek 1', 'Yan Yemek 5', 'İçecek 2'), ('Ana Yemek 1', 'Yan Yemek 5', 'İçecek 3'), ('Ana Yemek 1', 'Yan Yemek 5', 'İçecek 4'), ('Ana Yemek 1', 'Yan Yemek 5', 'İçecek 5'), ('Ana Yemek 1', 'Yan Yemek 6', 'İçecek 1'), ('Ana Yemek 1', 'Yan Yemek 6', 'İçecek 2'), ('Ana Yemek 1', 'Yan Yemek 6', 'İçecek 3'), ('Ana Yemek 1', 'Yan Yemek 6', 'İçecek 4'), ('Ana Yemek 1', 'Yan Yemek 6', 'İçecek 5'), ('Ana Yemek 1', 'Yan Yemek 7', 'İçecek 1'), ('Ana Yemek 1', 'Yan Yemek 7', 'İçecek 2'), ('Ana Yemek 1', 'Yan Yemek 7', 'İçecek 3'), ('Ana Yemek 1', 'Yan Yemek 7', 'İçecek 4'), ('Ana Yemek 1', 'Yan Yemek 7', 'İçecek 5'), ('Ana Yemek 1', 'Yan Yemek 8', 'İçecek 1'), ('Ana Yemek 1', 'Yan Yemek 8', 'İçecek 2'), ('Ana Yemek 1', 'Yan Yemek 8', 'İçecek 3'), ('Ana Yemek 1', 'Yan Yemek 8', 'İçecek 4'), ('Ana Yemek 1', 'Yan Yemek 8', 'İçecek 5'), ('Ana Yemek 2', 'Yan Yemek 1', 'İçecek 1'), ('Ana Yemek 2', 'Yan Yemek 1', 'İçecek 2'), ('Ana Yemek 2', 'Yan Yemek 1', 'İçecek 3'), ('Ana Yemek 2', 'Yan Yemek 1', 'İçecek 4'), ('Ana Yemek 2', 'Yan Yemek 1', 'İçecek 5'), ('Ana Yemek 2', 'Yan Yemek 2', 'İçecek 1'), ('Ana Yemek 2', 'Yan Yemek 2', 'İçecek 2'), ('Ana Yemek 2', 'Yan Yemek 2', 'İçecek 3'), ('Ana Yemek 2', 'Yan Yemek 2', 'İçecek 4'), ('Ana Yemek 2', 'Yan Yemek 2', 'İçecek 5'), ('Ana Yemek 2', 'Yan Yemek 3', 'İçecek 1'), ('Ana Yemek 2', 'Yan Yemek 3', 'İçecek 2'), ('Ana Yemek 2', 'Yan Yemek 3', 'İçecek 3'), ('Ana Yemek 2', 'Yan Yemek 3', 'İçecek 4'), ('Ana Yemek 2', 'Yan Yemek 3', 'İçecek 5'), ('Ana Yemek 2', 'Yan Yemek 4', 'İçecek 1'), ('Ana Yemek 2', 'Yan Yemek 4', 'İçecek 2'), ('Ana Yemek 2', 'Yan Yemek 4', 'İçecek 3'), ('Ana Yemek 2', 'Yan Yemek 4', 'İçecek 4'), ('Ana Yemek 2', 'Yan Yemek 4', 'İçecek 5'), ('Ana Yemek 2', 'Yan Yemek 5', 'İçecek 1'), ('Ana Yemek 2', 'Yan Yemek 5', 'İçecek 2'), ('Ana Yemek 2', 'Yan Yemek 5', 'İçecek 3'), ('Ana Yemek 2', 'Yan Yemek 5', 'İçecek 4'), ('Ana Yemek 2', 'Yan Yemek 5', 'İçecek 5'), ('Ana Yemek 2', 'Yan Yemek 6', 'İçecek 1'), ('Ana Yemek 2', 'Yan Yemek 6', 'İçecek 2'), ('Ana Yemek 2', 'Yan Yemek 6', 'İçecek 3'), ('Ana Yemek 2', 'Yan Yemek 6', 'İçecek 4'), ('Ana Yemek 2', 'Yan Yemek 6', 'İçecek 5'), ('Ana Yemek 2', 'Yan Yemek 7', 'İçecek 1'), ('Ana Yemek 2', 'Yan Yemek 7', 'İçecek 2'), ('Ana Yemek 2', 'Yan Yemek 7', 'İçecek 3'), ('Ana Yemek 2', 'Yan Yemek 7', 'İçecek 4'), ('Ana Yemek 2', 'Yan Yemek 7', 'İçecek 5'), ('Ana Yemek 2', 'Yan Yemek 8', 'İçecek 1'), ('Ana Yemek 2', 'Yan Yemek 8', 'İçecek 2'), ('Ana Yemek 2', 'Yan Yemek 8', 'İçecek 3'), ('Ana Yemek 2', 'Yan Yemek 8', 'İçecek 4'), ('Ana Yemek 2', 'Yan Yemek 8', 'İçecek 5'), ('Ana Yemek 3', 'Yan Yemek 1', 'İçecek 1'), ('Ana Yemek 3', 'Yan Yemek 1', 'İçecek 2'), ('Ana Yemek 3', 'Yan Yemek 1', 'İçecek 3'), ('Ana Yemek 3', 'Yan Yemek 1', 'İçecek 4'), ('Ana Yemek 3', 'Yan Yemek 1', 'İçecek 5'), ('Ana Yemek 3', 'Yan Yemek 2', 'İçecek 1'), ('Ana Yemek 3', 'Yan Yemek 2', 'İçecek 2'), ('Ana Yemek 3', 'Yan Yemek 2', 'İçecek 3'), ('Ana Yemek 3', 'Yan Yemek 2', 'İçecek 4'), ('Ana Yemek 3', 'Yan Yemek 2', 'İçecek 5'), ('Ana Yemek 3', 'Yan Yemek 3', 'İçecek 1'), ('Ana Yemek 3', 'Yan Yemek 3', 'İçecek 2'), ('Ana Yemek 3', 'Yan Yemek 3', 'İçecek 3'), ('Ana Yemek 3', 'Yan Yemek 3', 'İçecek 4'), ('Ana Yemek 3', 'Yan Yemek 3', 'İçecek 5'), ('Ana Yemek 3', 'Yan Yemek 4', 'İçecek 1'), ('Ana Yemek 3', 'Yan Yemek 4', 'İçecek 2'), ('Ana Yemek 3', 'Yan Yemek 4', 'İçecek 3'), ('Ana Yemek 3', 'Yan Yemek 4', 'İçecek 4'), ('Ana Yemek 3', 'Yan Yemek 4', 'İçecek 5'), ('Ana Yemek 3', 'Yan Yemek 5', 'İçecek 1'), ('Ana Yemek 3', 'Yan Yemek 5', 'İçecek 2'), ('Ana Yemek 3', 'Yan Yemek 5', 'İçecek 3'), ('Ana Yemek 3', 'Yan Yemek 5', 'İçecek 4'), ('Ana Yemek 3', 'Yan Yemek 5', 'İçecek 5'), ('Ana Yemek 3', 'Yan Yemek 6', 'İçecek 1'), ('Ana Yemek 3', 'Yan Yemek 6', 'İçecek 2'), ('Ana Yemek 3', 'Yan Yemek 6', 'İçecek 3'), ('Ana Yemek 3', 'Yan Yemek 6', 'İçecek 4'), ('Ana Yemek 3', 'Yan Yemek 6', 'İçecek 5'), ('Ana Yemek 3', 'Yan Yemek 7', 'İçecek 1'), ('Ana Yemek 3', 'Yan Yemek 7', 'İçecek 2'), ('Ana Yemek 3', 'Yan Yemek 7', 'İçecek 3'), ('Ana Yemek 3', 'Yan Yemek 7', 'İçecek 4'), ('Ana Yemek 3', 'Yan Yemek 7', 'İçecek 5'), ('Ana Yemek 3', 'Yan Yemek 8', 'İçecek 1'), ('Ana Yemek 3', 'Yan Yemek 8', 'İçecek 2'), ('Ana Yemek 3', 'Yan Yemek 8', 'İçecek 3'), ('Ana Yemek 3', 'Yan Yemek 8', 'İçecek 4'), ('Ana Yemek 3', 'Yan Yemek 8', 'İçecek 5'), ('Ana Yemek 4', 'Yan Yemek 1', 'İçecek 1'), ('Ana Yemek 4', 'Yan Yemek 1', 'İçecek 2'), ('Ana Yemek 4', 'Yan Yemek 1', 'İçecek 3'), ('Ana Yemek 4', 'Yan Yemek 1', 'İçecek 4'), ('Ana Yemek 4', 'Yan Yemek 1', 'İçecek 5'), ('Ana Yemek 4', 'Yan Yemek 2', 'İçecek 1'), ('Ana Yemek 4', 'Yan Yemek 2', 'İçecek 2'), ('Ana Yemek 4', 'Yan Yemek 2', 'İçecek 3'), ('Ana Yemek 4', 'Yan Yemek 2', 'İçecek 4'), ('Ana Yemek 4', 'Yan Yemek 2', 'İçecek 5'), ('Ana Yemek 4', 'Yan Yemek 3', 'İçecek 1'), ('Ana Yemek 4', 'Yan Yemek 3', 'İçecek 2'), ('Ana Yemek 4', 'Yan Yemek 3', 'İçecek 3'), ('Ana Yemek 4', 'Yan Yemek 3', 'İçecek 4'), ('Ana Yemek 4', 'Yan Yemek 3', 'İçecek 5'), ('Ana Yemek 4', 'Yan Yemek 4', 'İçecek 1'), ('Ana Yemek 4', 'Yan Yemek 4', 'İçecek 2'), ('Ana Yemek 4', 'Yan Yemek 4', 'İçecek 3'), ('Ana Yemek 4', 'Yan Yemek 4', 'İçecek 4'), ('Ana Yemek 4', 'Yan Yemek 4', 'İçecek 5'), ('Ana Yemek 4', 'Yan Yemek 5', 'İçecek 1'), ('Ana Yemek 4', 'Yan Yemek 5', 'İçecek 2'), ('Ana Yemek 4', 'Yan Yemek 5', 'İçecek 3'), ('Ana Yemek 4', 'Yan Yemek 5', 'İçecek 4'), ('Ana Yemek 4', 'Yan Yemek 5', 'İçecek 5'), ('Ana Yemek 4', 'Yan Yemek 6', 'İçecek 1'), ('Ana Yemek 4', 'Yan Yemek 6', 'İçecek 2'), ('Ana Yemek 4', 'Yan Yemek 6', 'İçecek 3'), ('Ana Yemek 4', 'Yan Yemek 6', 'İçecek 4'), ('Ana Yemek 4', 'Yan Yemek 6', 'İçecek 5'), ('Ana Yemek 4', 'Yan Yemek 7', 'İçecek 1'), ('Ana Yemek 4', 'Yan Yemek 7', 'İçecek 2'), ('Ana Yemek 4', 'Yan Yemek 7', 'İçecek 3'), ('Ana Yemek 4', 'Yan Yemek 7', 'İçecek 4'), ('Ana Yemek 4', 'Yan Yemek 7', 'İçecek 5'), ('Ana Yemek 4', 'Yan Yemek 8', 'İçecek 1'), ('Ana Yemek 4', 'Yan Yemek 8', 'İçecek 2'), ('Ana Yemek 4', 'Yan Yemek 8', 'İçecek 3'), ('Ana Yemek 4', 'Yan Yemek 8', 'İçecek 4'), ('Ana Yemek 4', 'Yan Yemek 8', 'İçecek 5'), ('Ana Yemek 5', 'Yan Yemek 1', 'İçecek 1'), ('Ana Yemek 5', 'Yan Yemek 1', 'İçecek 2'), ('Ana Yemek 5', 'Yan Yemek 1', 'İçecek 3'), ('Ana Yemek 5', 'Yan Yemek 1', 'İçecek 4'), ('Ana Yemek 5', 'Yan Yemek 1', 'İçecek 5'), ('Ana Yemek 5', 'Yan Yemek 2', 'İçecek 1'), ('Ana Yemek 5', 'Yan Yemek 2', 'İçecek 2'), ('Ana Yemek 5', 'Yan Yemek 2', 'İçecek 3'), ('Ana Yemek 5', 'Yan Yemek 2', 'İçecek 4'), ('Ana Yemek 5', 'Yan Yemek 2', 'İçecek 5'), ('Ana Yemek 5', 'Yan Yemek 3', 'İçecek 1'), ('Ana Yemek 5', 'Yan Yemek 3', 'İçecek 2'), ('Ana Yemek 5', 'Yan Yemek 3', 'İçecek 3'), ('Ana Yemek 5', 'Yan Yemek 3', 'İçecek 4'), ('Ana Yemek 5', 'Yan Yemek 3', 'İçecek 5'), ('Ana Yemek 5', 'Yan Yemek 4', 'İçecek 1'), ('Ana Yemek 5', 'Yan Yemek 4', 'İçecek 2'), ('Ana Yemek 5', 'Yan Yemek 4', 'İçecek 3'), ('Ana Yemek 5', 'Yan Yemek 4', 'İçecek 4'), ('Ana Yemek 5', 'Yan Yemek 4', 'İçecek 5'), ('Ana Yemek 5', 'Yan Yemek 5', 'İçecek 1'), ('Ana Yemek 5', 'Yan Yemek 5', 'İçecek 2'), ('Ana Yemek 5', 'Yan Yemek 5', 'İçecek 3'), ('Ana Yemek 5', 'Yan Yemek 5', 'İçecek 4'), ('Ana Yemek 5', 'Yan Yemek 5', 'İçecek 5'), ('Ana Yemek 5', 'Yan Yemek 6', 'İçecek 1'), ('Ana Yemek 5', 'Yan Yemek 6', 'İçecek 2'), ('Ana Yemek 5', 'Yan Yemek 6', 'İçecek 3'), ('Ana Yemek 5', 'Yan Yemek 6', 'İçecek 4'), ('Ana Yemek 5', 'Yan Yemek 6', 'İçecek 5'), ('Ana Yemek 5', 'Yan Yemek 7', 'İçecek 1'), ('Ana Yemek 5', 'Yan Yemek 7', 'İçecek 2'), ('Ana Yemek 5', 'Yan Yemek 7', 'İçecek 3'), ('Ana Yemek 5', 'Yan Yemek 7', 'İçecek 4'), ('Ana Yemek 5', 'Yan Yemek 7', 'İçecek 5'), ('Ana Yemek 5', 'Yan Yemek 8', 'İçecek 1'), ('Ana Yemek 5', 'Yan Yemek 8', 'İçecek 2'), ('Ana Yemek 5', 'Yan Yemek 8', 'İçecek 3'), ('Ana Yemek 5', 'Yan Yemek 8', 'İçecek 4'), ('Ana Yemek 5', 'Yan Yemek 8', 'İçecek 5'), ('Ana Yemek 6', 'Yan Yemek 1', 'İçecek 1'), ('Ana Yemek 6', 'Yan Yemek 1', 'İçecek 2'), ('Ana Yemek 6', 'Yan Yemek 1', 'İçecek 3'), ('Ana Yemek 6', 'Yan Yemek 1', 'İçecek 4'), ('Ana Yemek 6', 'Yan Yemek 1', 'İçecek 5'), ('Ana Yemek 6', 'Yan Yemek 2', 'İçecek 1'), ('Ana Yemek 6', 'Yan Yemek 2', 'İçecek 2'), ('Ana Yemek 6', 'Yan Yemek 2', 'İçecek 3'), ('Ana Yemek 6', 'Yan Yemek 2', 'İçecek 4'), ('Ana Yemek 6', 'Yan Yemek 2', 'İçecek 5'), ('Ana Yemek 6', 'Yan Yemek 3', 'İçecek 1'), ('Ana Yemek 6', 'Yan Yemek 3', 'İçecek 2'), ('Ana Yemek 6', 'Yan Yemek 3', 'İçecek 3'), ('Ana Yemek 6', 'Yan Yemek 3', 'İçecek 4'), ('Ana Yemek 6', 'Yan Yemek 3', 'İçecek 5'), ('Ana Yemek 6', 'Yan Yemek 4', 'İçecek 1'), ('Ana Yemek 6', 'Yan Yemek 4', 'İçecek 2'), ('Ana Yemek 6', 'Yan Yemek 4', 'İçecek 3'), ('Ana Yemek 6', 'Yan Yemek 4', 'İçecek 4'), ('Ana Yemek 6', 'Yan Yemek 4', 'İçecek 5'), ('Ana Yemek 6', 'Yan Yemek 5', 'İçecek 1'), ('Ana Yemek 6', 'Yan Yemek 5', 'İçecek 2'), ('Ana Yemek 6', 'Yan Yemek 5', 'İçecek 3'), ('Ana Yemek 6', 'Yan Yemek 5', 'İçecek 4'), ('Ana Yemek 6', 'Yan Yemek 5', 'İçecek 5'), ('Ana Yemek 6', 'Yan Yemek 6', 'İçecek 1'), ('Ana Yemek 6', 'Yan Yemek 6', 'İçecek 2'), ('Ana Yemek 6', 'Yan Yemek 6', 'İçecek 3'), ('Ana Yemek 6', 'Yan Yemek 6', 'İçecek 4'), ('Ana Yemek 6', 'Yan Yemek 6', 'İçecek 5'), ('Ana Yemek 6', 'Yan Yemek 7', 'İçecek 1'), ('Ana Yemek 6', 'Yan Yemek 7', 'İçecek 2'), ('Ana Yemek 6', 'Yan Yemek 7', 'İçecek 3'), ('Ana Yemek 6', 'Yan Yemek 7', 'İçecek 4'), ('Ana Yemek 6', 'Yan Yemek 7', 'İçecek 5'), ('Ana Yemek 6', 'Yan Yemek 8', 'İçecek 1'), ('Ana Yemek 6', 'Yan Yemek 8', 'İçecek 2'), ('Ana Yemek 6', 'Yan Yemek 8', 'İçecek 3'), ('Ana Yemek 6', 'Yan Yemek 8', 'İçecek 4'), ('Ana Yemek 6', 'Yan Yemek 8', 'İçecek 5'), ('Ana Yemek 7', 'Yan Yemek 1', 'İçecek 1'), ('Ana Yemek 7', 'Yan Yemek 1', 'İçecek 2'), ('Ana Yemek 7', 'Yan Yemek 1', 'İçecek 3'), ('Ana Yemek 7', 'Yan Yemek 1', 'İçecek 4'), ('Ana Yemek 7', 'Yan Yemek 1', 'İçecek 5'), ('Ana Yemek 7', 'Yan Yemek 2', 'İçecek 1'), ('Ana Yemek 7', 'Yan Yemek 2', 'İçecek 2'), ('Ana Yemek 7', 'Yan Yemek 2', 'İçecek 3'), ('Ana Yemek 7', 'Yan Yemek 2', 'İçecek 4'), ('Ana Yemek 7', 'Yan Yemek 2', 'İçecek 5'), ('Ana Yemek 7', 'Yan Yemek 3', 'İçecek 1'), ('Ana Yemek 7', 'Yan Yemek 3', 'İçecek 2'), ('Ana Yemek 7', 'Yan Yemek 3', 'İçecek 3'), ('Ana Yemek 7', 'Yan Yemek 3', 'İçecek 4'), ('Ana Yemek 7', 'Yan Yemek 3', 'İçecek 5'), ('Ana Yemek 7', 'Yan Yemek 4', 'İçecek 1'), ('Ana Yemek 7', 'Yan Yemek 4', 'İçecek 2'), ('Ana Yemek 7', 'Yan Yemek 4', 'İçecek 3'), ('Ana Yemek 7', 'Yan Yemek 4', 'İçecek 4'), ('Ana Yemek 7', 'Yan Yemek 4', 'İçecek 5'), ('Ana Yemek 7', 'Yan Yemek 5', 'İçecek 1'), ('Ana Yemek 7', 'Yan Yemek 5', 'İçecek 2'), ('Ana Yemek 7', 'Yan Yemek 5', 'İçecek 3'), ('Ana Yemek 7', 'Yan Yemek 5', 'İçecek 4'), ('Ana Yemek 7', 'Yan Yemek 5', 'İçecek 5'), ('Ana Yemek 7', 'Yan Yemek 6', 'İçecek 1'), ('Ana Yemek 7', 'Yan Yemek 6', 'İçecek 2'), ('Ana Yemek 7', 'Yan Yemek 6', 'İçecek 3'), ('Ana Yemek 7', 'Yan Yemek 6', 'İçecek 4'), ('Ana Yemek 7', 'Yan Yemek 6', 'İçecek 5'), ('Ana Yemek 7', 'Yan Yemek 7', 'İçecek 1'), ('Ana Yemek 7', 'Yan Yemek 7', 'İçecek 2'), ('Ana Yemek 7', 'Yan Yemek 7', 'İçecek 3'), ('Ana Yemek 7', 'Yan Yemek 7', 'İçecek 4'), ('Ana Yemek 7', 'Yan Yemek 7', 'İçecek 5'), ('Ana Yemek 7', 'Yan Yemek 8', 'İçecek 1'), ('Ana Yemek 7', 'Yan Yemek 8', 'İçecek 2'), ('Ana Yemek 7', 'Yan Yemek 8', 'İçecek 3'), ('Ana Yemek 7', 'Yan Yemek 8', 'İçecek 4'), ('Ana Yemek 7', 'Yan Yemek 8', 'İçecek 5'), ('Ana Yemek 8', 'Yan Yemek 1', 'İçecek 1'), ('Ana Yemek 8', 'Yan Yemek 1', 'İçecek 2'), ('Ana Yemek 8', 'Yan Yemek 1', 'İçecek 3'), ('Ana Yemek 8', 'Yan Yemek 1', 'İçecek 4'), ('Ana Yemek 8', 'Yan Yemek 1', 'İçecek 5'), ('Ana Yemek 8', 'Yan Yemek 2', 'İçecek 1'), ('Ana Yemek 8', 'Yan Yemek 2', 'İçecek 2'), ('Ana Yemek 8', 'Yan Yemek 2', 'İçecek 3'), ('Ana Yemek 8', 'Yan Yemek 2', 'İçecek 4'), ('Ana Yemek 8', 'Yan Yemek 2', 'İçecek 5'), ('Ana Yemek 8', 'Yan Yemek 3', 'İçecek 1'), ('Ana Yemek 8', 'Yan Yemek 3', 'İçecek 2'), ('Ana Yemek 8', 'Yan Yemek 3', 'İçecek 3'), ('Ana Yemek 8', 'Yan Yemek 3', 'İçecek 4'), ('Ana Yemek 8', 'Yan Yemek 3', 'İçecek 5'), ('Ana Yemek 8', 'Yan Yemek 4', 'İçecek 1'), ('Ana Yemek 8', 'Yan Yemek 4', 'İçecek 2'), ('Ana Yemek 8', 'Yan Yemek 4', 'İçecek 3'), ('Ana Yemek 8', 'Yan Yemek 4', 'İçecek 4'), ('Ana Yemek 8', 'Yan Yemek 4', 'İçecek 5'), ('Ana Yemek 8', 'Yan Yemek 5', 'İçecek 1'), ('Ana Yemek 8', 'Yan Yemek 5', 'İçecek 2'), ('Ana Yemek 8', 'Yan Yemek 5', 'İçecek 3'), ('Ana Yemek 8', 'Yan Yemek 5', 'İçecek 4'), ('Ana Yemek 8', 'Yan Yemek 5', 'İçecek 5'), ('Ana Yemek 8', 'Yan Yemek 6', 'İçecek 1'), ('Ana Yemek 8', 'Yan Yemek 6', 'İçecek 2'), ('Ana Yemek 8', 'Yan Yemek 6', 'İçecek 3'), ('Ana Yemek 8', 'Yan Yemek 6', 'İçecek 4'), ('Ana Yemek 8', 'Yan Yemek 6', 'İçecek 5'), ('Ana Yemek 8', 'Yan Yemek 7', 'İçecek 1'), ('Ana Yemek 8', 'Yan Yemek 7', 'İçecek 2'), ('Ana Yemek 8', 'Yan Yemek 7', 'İçecek 3'), ('Ana Yemek 8', 'Yan Yemek 7', 'İçecek 4'), ('Ana Yemek 8', 'Yan Yemek 7', 'İçecek 5'), ('Ana Yemek 8', 'Yan Yemek 8', 'İçecek 1'), ('Ana Yemek 8', 'Yan Yemek 8', 'İçecek 2'), ('Ana Yemek 8', 'Yan Yemek 8', 'İçecek 3'), ('Ana Yemek 8', 'Yan Yemek 8', 'İçecek 4'), ('Ana Yemek 8', 'Yan Yemek 8', 'İçecek 5'), ('Ana Yemek 9', 'Yan Yemek 1', 'İçecek 1'), ('Ana Yemek 9', 'Yan Yemek 1', 'İçecek 2'), ('Ana Yemek 9', 'Yan Yemek 1', 'İçecek 3'), ('Ana Yemek 9', 'Yan Yemek 1', 'İçecek 4'), ('Ana Yemek 9', 'Yan Yemek 1', 'İçecek 5'), ('Ana Yemek 9', 'Yan Yemek 2', 'İçecek 1'), ('Ana Yemek 9', 'Yan Yemek 2', 'İçecek 2'), ('Ana Yemek 9', 'Yan Yemek 2', 'İçecek 3'), ('Ana Yemek 9', 'Yan Yemek 2', 'İçecek 4'), ('Ana Yemek 9', 'Yan Yemek 2', 'İçecek 5'), ('Ana Yemek 9', 'Yan Yemek 3', 'İçecek 1'), ('Ana Yemek 9', 'Yan Yemek 3', 'İçecek 2'), ('Ana Yemek 9', 'Yan Yemek 3', 'İçecek 3'), ('Ana Yemek 9', 'Yan Yemek 3', 'İçecek 4'), ('Ana Yemek 9', 'Yan Yemek 3', 'İçecek 5'), ('Ana Yemek 9', 'Yan Yemek 4', 'İçecek 1'), ('Ana Yemek 9', 'Yan Yemek 4', 'İçecek 2'), ('Ana Yemek 9', 'Yan Yemek 4', 'İçecek 3'), ('Ana Yemek 9', 'Yan Yemek 4', 'İçecek 4'), ('Ana Yemek 9', 'Yan Yemek 4', 'İçecek 5'), ('Ana Yemek 9', 'Yan Yemek 5', 'İçecek 1'), ('Ana Yemek 9', 'Yan Yemek 5', 'İçecek 2'), ('Ana Yemek 9', 'Yan Yemek 5', 'İçecek 3'), ('Ana Yemek 9', 'Yan Yemek 5', 'İçecek 4'), ('Ana Yemek 9', 'Yan Yemek 5', 'İçecek 5'), ('Ana Yemek 9', 'Yan Yemek 6', 'İçecek 1'), ('Ana Yemek 9', 'Yan Yemek 6', 'İçecek 2'), ('Ana Yemek 9', 'Yan Yemek 6', 'İçecek 3'), ('Ana Yemek 9', 'Yan Yemek 6', 'İçecek 4'), ('Ana Yemek 9', 'Yan Yemek 6', 'İçecek 5'), ('Ana Yemek 9', 'Yan Yemek 7', 'İçecek 1'), ('Ana Yemek 9', 'Yan Yemek 7', 'İçecek 2'), ('Ana Yemek 9', 'Yan Yemek 7', 'İçecek 3'), ('Ana Yemek 9', 'Yan Yemek 7', 'İçecek 4'), ('Ana Yemek 9', 'Yan Yemek 7', 'İçecek 5'), ('Ana Yemek 9', 'Yan Yemek 8', 'İçecek 1'), ('Ana Yemek 9', 'Yan Yemek 8', 'İçecek 2'), ('Ana Yemek 9', 'Yan Yemek 8', 'İçecek 3'), ('Ana Yemek 9', 'Yan Yemek 8', 'İçecek 4'), ('Ana Yemek 9', 'Yan Yemek 8', 'İçecek 5'), ('Ana Yemek 10', 'Yan Yemek 1', 'İçecek 1'), ('Ana Yemek 10', 'Yan Yemek 1', 'İçecek 2'), ('Ana Yemek 10', 'Yan Yemek 1', 'İçecek 3'), ('Ana Yemek 10', 'Yan Yemek 1', 'İçecek 4'), ('Ana Yemek 10', 'Yan Yemek 1', 'İçecek 5'), ('Ana Yemek 10', 'Yan Yemek 2', 'İçecek 1'), ('Ana Yemek 10', 'Yan Yemek 2', 'İçecek 2'), ('Ana Yemek 10', 'Yan Yemek 2', 'İçecek 3'), ('Ana Yemek 10', 'Yan Yemek 2', 'İçecek 4'), ('Ana Yemek 10', 'Yan Yemek 2', 'İçecek 5'), ('Ana Yemek 10', 'Yan Yemek 3', 'İçecek 1'), ('Ana Yemek 10', 'Yan Yemek 3', 'İçecek 2'), ('Ana Yemek 10', 'Yan Yemek 3', 'İçecek 3'), ('Ana Yemek 10', 'Yan Yemek 3', 'İçecek 4'), ('Ana Yemek 10', 'Yan Yemek 3', 'İçecek 5'), ('Ana Yemek 10', 'Yan Yemek 4', 'İçecek 1'), ('Ana Yemek 10', 'Yan Yemek 4', 'İçecek 2'), ('Ana Yemek 10', 'Yan Yemek 4', 'İçecek 3'), ('Ana Yemek 10', 'Yan Yemek 4', 'İçecek 4'), ('Ana Yemek 10', 'Yan Yemek 4', 'İçecek 5'), ('Ana Yemek 10', 'Yan Yemek 5', 'İçecek 1'), ('Ana Yemek 10', 'Yan Yemek 5', 'İçecek 2'), ('Ana Yemek 10', 'Yan Yemek 5', 'İçecek 3'), ('Ana Yemek 10', 'Yan Yemek 5', 'İçecek 4'), ('Ana Yemek 10', 'Yan Yemek 5', 'İçecek 5'), ('Ana Yemek 10', 'Yan Yemek 6', 'İçecek 1'), ('Ana Yemek 10', 'Yan Yemek 6', 'İçecek 2'), ('Ana Yemek 10', 'Yan Yemek 6', 'İçecek 3'), ('Ana Yemek 10', 'Yan Yemek 6', 'İçecek 4'), ('Ana Yemek 10', 'Yan Yemek 6', 'İçecek 5'), ('Ana Yemek 10', 'Yan Yemek 7', 'İçecek 1'), ('Ana Yemek 10', 'Yan Yemek 7', 'İçecek 2'), ('Ana Yemek 10', 'Yan Yemek 7', 'İçecek 3'), ('Ana Yemek 10', 'Yan Yemek 7', 'İçecek 4'), ('Ana Yemek 10', 'Yan Yemek 7', 'İçecek 5'), ('Ana Yemek 10', 'Yan Yemek 8', 'İçecek 1'), ('Ana Yemek 10', 'Yan Yemek 8', 'İçecek 2'), ('Ana Yemek 10', 'Yan Yemek 8', 'İçecek 3'), ('Ana Yemek 10', 'Yan Yemek 8', 'İçecek 4'), ('Ana Yemek 10', 'Yan Yemek 8', 'İçecek 5')]\n"
          ]
        }
      ]
    }
  ]
}