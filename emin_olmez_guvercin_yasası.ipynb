{
  "nbformat": 4,
  "nbformat_minor": 0,
  "metadata": {
    "colab": {
      "provenance": [],
      "name": "emin_olmez_guvercin_yasası.ipynb",
      "authorship_tag": "ABX9TyMOXrvMOlbG3OWs/rdRXSyu",
      "include_colab_link": true
    },
    "kernelspec": {
      "name": "python3",
      "display_name": "Python 3"
    },
    "language_info": {
      "name": "python"
    }
  },
  "cells": [
    {
      "cell_type": "markdown",
      "metadata": {
        "id": "view-in-github",
        "colab_type": "text"
      },
      "source": [
        "<a href=\"https://colab.research.google.com/github/e-olmez42/Emin_OLMEZ_Olasilik_Odevler/blob/main/emin_olmez_guvercin_yasas%C4%B1.ipynb\" target=\"_parent\"><img src=\"https://colab.research.google.com/assets/colab-badge.svg\" alt=\"Open In Colab\"/></a>"
      ]
    },
    {
      "cell_type": "markdown",
      "source": [
        "**Soru:**Amerika Birleşik Devletleri'nde 300 milyon kişinin olduğu herkesin cinsiyetini erkek veya kadın olarak belirlediğini, herkesin en fazla 10 çocuğu olduğunu ve herkesin adının üç harfli olduğunu varsayalım. Bu durum altında, aynı cinsiyette, aynı sayıda çocuğa, aynı üç harfli adın ve aynı doğum tarihinin olduğu en az 3 kişi olduğunu güvercin yuvası prensibi ile garanti edelim.\n",
        "\n",
        "Çözüm:\n",
        "\n",
        "İlk olarak, bir kişinin adının üç harfli olduğunu varsayalım. Bu, sadece 26 * 26 * 26 = 17,576 farklı kombinasyon olduğunu gösterir.\n",
        "\n",
        "Bir kişinin en fazla 10 çocuğu olduğunu varsayalım. Bu, her bir kişi için maksimum 10 farklı çocuk sayısına sahip olduğumuz anlamına gelir.\n",
        "\n",
        "Bir kişinin cinsiyetinin erkek veya kadın olduğunu varsayalım. Yani, sadece iki farklı seçeneğimiz var.\n",
        "\n",
        "Bir kişinin doğum tarihi ise yıl, ay ve gün olarak verilebilir. Ancak, bu problemin daha basit bir çözümü için yalnızca gün olarak ele alalım. Bir yıl içinde 366 gün olduğu göz önüne alındığında, bir kişinin doğum tarihler içindedir.\n",
        "\n",
        "Şimdi, Pigeonhole Prensibi'ni kullanarak, 17,576 * 10 * 2 * 366 = 128,789,120 farklı kişinin kombinasyonunu hesaplayalım. Ancak, Amerika Birleşik Devletleri'nde 300 milyon insan olduğunu göz önünde bulundurduğumuzda, bu kombinasyonların sayısının 300 milyondan fazla olduğunu görebiliriz.\n",
        "\n",
        "bu durumda [300,000,000/128,789,120] =2,349 çıkmaktadır. Burada güvercin yuvasında yukarı yuvarlama işlemi yapılmaktadır. bundan dolayı 3 elde edilir. Bu durumda, aynı cinsiyette, aynı çocuk sayısına, aynı üç harfli adın ve aynı doğum tarihine sahip en az üç kişi olduğu sonucuna varırız.\n",
        "\n",
        "\n",
        "\n",
        "\n",
        "\n",
        "\n",
        ">\n",
        "\n"
      ],
      "metadata": {
        "id": "F7YPOq7n7zGK"
      }
    },
    {
      "cell_type": "code",
      "execution_count": null,
      "metadata": {
        "id": "_Wt02YRYpM9S",
        "colab": {
          "base_uri": "https://localhost:8080/"
        },
        "outputId": "da73990c-248c-4848-bde4-ffbccc522ccc"
      },
      "outputs": [
        {
          "output_type": "stream",
          "name": "stdout",
          "text": [
            "harf adeti sayısı 26\n",
            "cinsiyet sayısı 2\n",
            "yılın gün sayısı 366\n",
            "Aynı cinsiyette, aynı sayıda çocuğa, aynı üç harfli adın ve aynı doğum tarihinin olduğu sayısı: 3\n"
          ]
        }
      ],
      "source": [
        "from collections import defaultdict\n",
        "import math\n",
        "import datetime\n",
        "\n",
        "def yilin_gun_sayisi(yil):\n",
        "    # Belirtilen yılın 1 Ocak tarihini oluşturuyoruz\n",
        "    baslangic_tarihi = datetime.date(yil, 1, 1)\n",
        "\n",
        "    # Belirtilen yılın bir sonraki yılının 1 Ocak tarihini oluşturuyoruz\n",
        "    bir_sonraki_yil = datetime.date(yil + 1, 1, 1)\n",
        "\n",
        "    # İki tarih arasındaki farkı alarak toplam gün sayısını elde ediyoruz\n",
        "    gun_sayisi = (bir_sonraki_yil - baslangic_tarihi).days\n",
        "\n",
        "    return gun_sayisi\n",
        "\n",
        "# Farklı ad sayısı\n",
        "harfler = ['A', 'B', 'C', 'D', 'E', 'F', 'G', 'H', 'I', 'J', 'K', 'L', 'M', 'N', 'O', 'P', 'Q', 'R', 'S', 'T', 'U', 'V', 'W', 'X', 'Y', 'Z']\n",
        "print(\"harf adeti sayısı\",len(harfler))\n",
        "name_combinations = len(harfler)*len(harfler)*len(harfler)\n",
        "# Farklı çocuk sayısı\n",
        "children_combinations = 10\n",
        "cinsiyet =[\"erkek\",\"kadın\"]\n",
        "print(\"cinsiyet sayısı\",len(cinsiyet))\n",
        "gender_combinations = len(cinsiyet)\n",
        "# Farklı doğum tarihleri sayısı\n",
        "print(\"yılın gün sayısı\",yilin_gun_sayisi(2024))\n",
        "birthday_combinations = yilin_gun_sayisi(2024)\n",
        "\n",
        "# Toplam kombinasyon sayısı\n",
        "total_combinations = name_combinations * children_combinations * gender_combinations * birthday_combinations\n",
        "\n",
        "# Amerika Birleşik Devletleri nüfusu\n",
        "us_population = 300_000_000\n",
        "\n",
        "# Güvercin yuvası prensibine göre minimum kombinasyon sayısı\n",
        "sonuc = math.ceil(us_population / total_combinations)\n",
        "\n",
        "print(\"Aynı cinsiyette, aynı sayıda çocuğa, aynı üç harfli adın ve aynı doğum tarihinin olduğu sayısı:\", sonuc)"
      ]
    },
    {
      "cell_type": "markdown",
      "source": [
        "Bir posta kodu 5 rakamdan oluşmaktadır. Hiçbir rakam birden fazla kullanılmamaktadır ve ilk rakam 0 kullanılmaz izin verilmemektedir. 0'dan 9'a kadar olan rakamlarla kaç farklı posta kodu oluşturulabilir?\n",
        "\n",
        "ilk konum için 9 olası seçenek vardır (0'a izin verilmediğinden). Bu sayı seçildikten sonra 9 olası seçenek vardır (çünkü artık 0'a izin verilmektedir). O halde 8 olası seçenek, 7 olası seçenek ve 6 olası seçenek vardır.\n",
        "\n",
        "0'a izin verilmediğinden formüle ilk rakamı ekleyemiyoruz. İlk konum için 9 olası seçenek vardır (0'a izin verilmediğinden). Sonraki 4 pozisyon için 9 haneden seçim yapıyoruz.\n",
        "\n",
        "![image.png](data:image/png;base64,iVBORw0KGgoAAAANSUhEUgAAAYsAAAAsCAYAAACUjpRpAAAAAXNSR0IArs4c6QAAAERlWElmTU0AKgAAAAgAAYdpAAQAAAABAAAAGgAAAAAAA6ABAAMAAAABAAEAAKACAAQAAAABAAABi6ADAAQAAAABAAAALAAAAACngdQbAAAHZUlEQVR4Ae1cCY4cOQzLLvL/L+9CE3DAaCRbdru6XS42MLGsg6LoOuYA8uuXPlJACkgBKSAFpIAUkAJSQApIASkgBaSAFJACUkAKSAEpIAWkgBT4vAL/fJ6CGLxBgf+oR3bmlpPFqPz25klaVGapHhhjWc0r14LHAodXMIFhK+O/islYhs14FuO9xfWRAkcrwDcE2zx05uecE2yek22eLfNzzg4282R7lFtUG/kquFld5q9gcs4qHMPsYfXizEu2FLi9AtEFX/Xdfng3QHXuKM9BfXwbcYx8FaJRXeSrYGU5K/BWYDC/Hl4vzljH2/8eP6EGlALPVSB72GX+nlJZXeYHnsWjX+dkdZkfeNma1UV++GyFneHKLwUeoUB0I1R9pwlUnTvK202LiGPFF+XYbOxn28/tY37v8z22j/t6v0c+/LbCRoxXH/N7zmU7yot8XCNbChynAF/0ZvMew0Y+xE5aec67a1GZxc4OeViz88z08PnAwerjft/LQxyrr7e9xTjOts9HDKuPZ3uf7/dZnfxS4CgF7MLHxY+VB4x8HD/JPkmL3iw4t975cpxt1Pu1kmM1q/IinMgHnq0Ycvzqa/ze52svBY5WILsBMv/JYmQzZ/6dtWhxRgyrnyPyRz7UIYYV/mgdyWnlRrHIZxzgxxrxinw+3++jmsf49Afuxxy1Bn2oAvbAwx+XbX31Afg0vIdeNhr7yQrYTf7qg+IU/U7SojVLdt7e7/d2zlVfltvyW8w+UY+qP6qNfC08i+GT1SL++BXfcbAQLFoU59wRm3G5LuphufBzHXxcX7E93ixOr9cKrr0eo3Fw6s3MGo32uCof3A2/x7/CAXg9rNVaoO+qOQwHmL1ZKrowHvJX4K7WkXm+yg/6tea9kr/19TN4Ti1uiGHlWo+LHFt7M1VxvjA5mW1uOGtHeN7X2vtYhYfV+Dq/r+BUchiX7Uqtcn4qwBqy/TNzbw9zZ3tv1mK3WgF/9rxnm/tm/lZOVGM+fHEt21Edx/+yo+TI91fRwCbCYh/bBuv3mS+jgHqsnBf5OD5qR3iRbxT3qfmRdpFvd30izpFv9znE73UFonOPfNypF7fcKCfyZbktv8W+PjN/4B4lgV5W1/rxCHmnr7P6na7LzHwnaXnSLDNn+YSa0edf9Zk5ijul9czLwoj5C7s6lCfJdWz7vJl9Dy+aY6bPaE3Ut8d1tMdT8k/S8qRZnnL9nTInnj+22lf4+e28uGBttU9WyHlo9Kei/a/HQ5+sivtYjq/P6kY4RRi9PhHvEa6c+yrXiP9uviv1fKeWV85hZ/bOWXa7Ru7GZ+Za8DNede/P4HIN257zj70l25d9sP7Z/f1vK8aZlbxWjsUQx8r4bEfxyGc1mZ/xRm3DBC7WDKMXz+qe5K/qubuW1TnsbHef5UnX31Wz9s64F8949eqieMnnf7IAAfsOxz4GAvvLQf8ghpVCy01wqPayPP+p1vq60X2VK/hg9X2iGXzOjnvMv4ob8DKdrA9iWH3vWS3R2+PN7IGVcQQm4ljhxzo7C+q1jiuAsxuvjCuys42z696rcL8YZC+LHj0mZULyvld7dTw62FF+lt/6RD1a+T7GfDL9Xu3he35yf6We79TyyjnsfN45yyevhxN6z14LfMYrdbgKt8vRGmdirPJ7Ehmu5bX4eJxon2Fn/gij6utxzXpm/mrfU/NaemaaZf5PatSaw3hlnDP/J2dR7zkForOs+lodRzCiXMNmP9vfff13r0jy/u+CQQN4KOvhWj7noJ59wLK1F0eux0Vthou6kbXKZQTzybmn6HnKHE++FlfNjmvB4/nnkOV5n9Wg3sfgr+Aix2O08FGz1ZoN3SI5U8PCtLAVkwJSQArspMDs826nGZZxGRFjJJcJztYxhmwpIAWkwDsV0HMrUPtKUa7EDkZZ6mLuZuNraRMC8/0o9MPk3B/BzRzQDSvTu9MczHtXGxpjZZ7SmtWQLQUWKeBvLN6zvahd+CJq9WnFVnFagdPj2Yuv4PAUjJ6WvfhTdLrFnDP/3cctBjuMpN1U/Acpv7fYyhvP40PO1X2Aq1UKSIHNFdDLYvMDEr2lCuCFaivspQ0E9q0A9JXW35LIkALXKoCbjrtUfVxTtRmbba6P/JGPa3a0I86Rb0fud+MU6Rr57jbXY/jqJ4t7HrX/ddCqm85w+Ndd91SnztrrWK9U5qgC0npUsc3yZ/+7j83GeCQdvvnYZjF6LxGrw+dpLwrMrVUKSIGCAnpZFETaOAUP++xBj3h1hOjlkmFXMZUnBaTAAQroZXHAIS4aIXqx6EWxSFzBSAEpIAWuViD6bh89LdaKI292zbAz/2yfT9WdMsen9BvpK61H1FKuFJhUwN9otve+SehmWdQj8hlI5m82eHPQOPJX1P4Oc0S8d/OxzpmmmX+3WcRHCtxGgZ1uqp243OYARVQKSAEp8C4FdnhI78DhXXqrjxSQAlLgtgp88mH9yd63PTARlwJSQApIASkgBaSAFJACUkAKSAEpIAWkgBSQAlJACkiBsgL/A6AA/ehMcU8aAAAAAElFTkSuQmCC)"
      ],
      "metadata": {
        "id": "945l5a2pFQQc"
      }
    },
    {
      "cell_type": "code",
      "source": [
        "def faktoriyel(n):\n",
        "    if n == 0:\n",
        "        return 1\n",
        "    else:\n",
        "        return n * faktoriyel(n - 1)\n",
        "\n",
        "def farkli_posta_kodu_sayisi():\n",
        "    n = 10  # Toplam öğe sayısı (0'dan 9'a kadar olan rakamlar)\n",
        "    r = 5   # Seçilecek öğe sayısı (posta kodunda 5 rakam var)\n",
        "    ilk_rakam_secenek = 9  # İlk rakam 0 olmadığı için 9 seçenek\n",
        "    return (faktoriyel(n - 1) // faktoriyel(n - r)) * ilk_rakam_secenek\n",
        "\n",
        "print(\"Bir posta kodu\", farkli_posta_kodu_sayisi(), \"oluşturulur\")"
      ],
      "metadata": {
        "colab": {
          "base_uri": "https://localhost:8080/"
        },
        "id": "rtWYdS5iFSFU",
        "outputId": "9637ea1a-2669-4ba0-eaa6-542d50ae49a7"
      },
      "execution_count": null,
      "outputs": [
        {
          "output_type": "stream",
          "name": "stdout",
          "text": [
            "Bir posta kodu 27216 oluşturulur\n"
          ]
        }
      ]
    },
    {
      "cell_type": "code",
      "source": [],
      "metadata": {
        "id": "tUXHsz5mFPjT"
      },
      "execution_count": null,
      "outputs": []
    }
  ]
}