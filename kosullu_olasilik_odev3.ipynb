{
  "nbformat": 4,
  "nbformat_minor": 0,
  "metadata": {
    "colab": {
      "provenance": [],
      "authorship_tag": "ABX9TyNBkxxM4HC9Cx4+uFG0AcHR",
      "include_colab_link": true
    },
    "kernelspec": {
      "name": "python3",
      "display_name": "Python 3"
    },
    "language_info": {
      "name": "python"
    }
  },
  "cells": [
    {
      "cell_type": "markdown",
      "metadata": {
        "id": "view-in-github",
        "colab_type": "text"
      },
      "source": [
        "<a href=\"https://colab.research.google.com/github/e-olmez42/Emin_OLMEZ_Olasilik_Odevler/blob/main/kosullu_olasilik_odev3.ipynb\" target=\"_parent\"><img src=\"https://colab.research.google.com/assets/colab-badge.svg\" alt=\"Open In Colab\"/></a>"
      ]
    },
    {
      "cell_type": "markdown",
      "source": [
        "bir elektronik cihaz üretim hattındaki toplam ürün sayısını 1000 olarak alalım.\n",
        "\n",
        "Test sonucu pozitif çıkan cihaz sayısı: 50\n",
        "Test sonucu pozitif çıkan cihazların arızalı olduğu durumda (kesişim): 40\n",
        "Gerçekten arızalı cihazların sayısı: 100\n",
        "Bu verilerle koşullu olasılığı hesaplayabiliriz:\n",
        "\n",
        "Bir cihazın test sonucu pozitif çıktığında gerçekten arızalı olma olasılığı:\n",
        "Yani, test sonucu pozitif olan bir cihazın gerçekten arızalı olma olasılığı 0.8 veya %80'dir.\n",
        "\n",
        "Bir cihazın test sonucu negatif çıktığında gerçekte arızalı olmama olasılığı:\n",
        "\n",
        "Yani, test sonucu negatif olan bir cihazın gerçekte arızalı olmama olasılığı 0.947 veya %94.7'dir.\n",
        "\n"
      ],
      "metadata": {
        "id": "pI5jubQfThqL"
      }
    },
    {
      "cell_type": "code",
      "source": [
        "def conditional_probability(A_and_B, B):\n",
        "    return A_and_B / B\n",
        "\n",
        "positive_test_result = 50\n",
        "\n",
        "faulty_positive_test_result = 40\n",
        "\n",
        "faulty_devices = 100\n",
        "\n",
        "total_products = 1000\n",
        "\n",
        "P_B_given_A = conditional_probability(faulty_positive_test_result, positive_test_result)\n",
        "print(\"Test sonucu pozitif çıkan bir cihazın gerçekte arızalı olma olasılığı:\", P_B_given_A)\n",
        "\n",
        "P_notA_given_notB = conditional_probability(total_products - faulty_devices, total_products - positive_test_result)\n",
        "print(\"Test sonucu negatif çıkan bir cihazın gerçekte arızalı olmama olasılığı:\", P_notA_given_notB)\n",
        "\n",
        "P_A_given_B = conditional_probability(faulty_positive_test_result, faulty_devices)\n",
        "print(\"Cihazın arızalı olduğu bilindiğinde, teste arıza çıkma olasılığı:\", P_A_given_B)"
      ],
      "metadata": {
        "colab": {
          "base_uri": "https://localhost:8080/"
        },
        "id": "rsaADInrSdTT",
        "outputId": "bd150a79-aca0-4178-8206-c884a6010d68"
      },
      "execution_count": null,
      "outputs": [
        {
          "output_type": "stream",
          "name": "stdout",
          "text": [
            "Test sonucu pozitif çıkan bir cihazın gerçekte arızalı olma olasılığı: 0.8\n",
            "Test sonucu negatif çıkan bir cihazın gerçekte arızalı olmama olasılığı: 0.9473684210526315\n",
            "Cihazın arızalı olduğu bilindiğinde, teste arıza çıkma olasılığı: 0.4\n"
          ]
        }
      ]
    }
  ]
}